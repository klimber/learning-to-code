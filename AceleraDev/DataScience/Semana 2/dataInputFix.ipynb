{
 "nbformat": 4,
 "nbformat_minor": 2,
 "metadata": {
  "language_info": {
   "name": "python",
   "codemirror_mode": {
    "name": "ipython",
    "version": 3
   },
   "version": "3.8.2-final"
  },
  "orig_nbformat": 2,
  "file_extension": ".py",
  "mimetype": "text/x-python",
  "name": "python",
  "npconvert_exporter": "python",
  "pygments_lexer": "ipython3",
  "version": 3,
  "kernelspec": {
   "name": "python38264bitvenvvenv6e9ff27c778a4c56bbda8025877f4e68",
   "display_name": "Python 3.8.2 64-bit ('venv': venv)"
  }
 },
 "cells": [
  {
   "cell_type": "code",
   "execution_count": 7,
   "metadata": {},
   "outputs": [],
   "source": [
    "# Importando os dados\n",
    "import pandas as pd"
   ]
  },
  {
   "cell_type": "code",
   "execution_count": 3,
   "metadata": {},
   "outputs": [],
   "source": [
    "# Lendo o DataFrame\n",
    "df = pd.read_csv(\"train.csv\")"
   ]
  },
  {
   "cell_type": "code",
   "execution_count": 15,
   "metadata": {},
   "outputs": [],
   "source": [
    "# Criando o dataframe auxiliar\n",
    "aux = pd.DataFrame({'colunas': df.columns, 'tipos': df.dtypes, 'percentual_faltantes': df.isna().sum() / df.shape[0]})"
   ]
  },
  {
   "cell_type": "code",
   "execution_count": 16,
   "metadata": {},
   "outputs": [
    {
     "output_type": "execute_result",
     "data": {
      "text/plain": "                 colunas    tipos  percentual_faltantes\nPassengerId  PassengerId    int64              0.000000\nSurvived        Survived    int64              0.000000\nPclass            Pclass    int64              0.000000\nName                Name   object              0.000000\nSex                  Sex   object              0.000000\nAge                  Age  float64              0.000000\nSibSp              SibSp    int64              0.000000\nParch              Parch    int64              0.000000\nTicket            Ticket   object              0.000000\nFare                Fare  float64              0.000000\nCabin              Cabin   object              0.771044\nEmbarked        Embarked   object              0.002245",
      "text/html": "<div>\n<style scoped>\n    .dataframe tbody tr th:only-of-type {\n        vertical-align: middle;\n    }\n\n    .dataframe tbody tr th {\n        vertical-align: top;\n    }\n\n    .dataframe thead th {\n        text-align: right;\n    }\n</style>\n<table border=\"1\" class=\"dataframe\">\n  <thead>\n    <tr style=\"text-align: right;\">\n      <th></th>\n      <th>colunas</th>\n      <th>tipos</th>\n      <th>percentual_faltantes</th>\n    </tr>\n  </thead>\n  <tbody>\n    <tr>\n      <th>PassengerId</th>\n      <td>PassengerId</td>\n      <td>int64</td>\n      <td>0.000000</td>\n    </tr>\n    <tr>\n      <th>Survived</th>\n      <td>Survived</td>\n      <td>int64</td>\n      <td>0.000000</td>\n    </tr>\n    <tr>\n      <th>Pclass</th>\n      <td>Pclass</td>\n      <td>int64</td>\n      <td>0.000000</td>\n    </tr>\n    <tr>\n      <th>Name</th>\n      <td>Name</td>\n      <td>object</td>\n      <td>0.000000</td>\n    </tr>\n    <tr>\n      <th>Sex</th>\n      <td>Sex</td>\n      <td>object</td>\n      <td>0.000000</td>\n    </tr>\n    <tr>\n      <th>Age</th>\n      <td>Age</td>\n      <td>float64</td>\n      <td>0.000000</td>\n    </tr>\n    <tr>\n      <th>SibSp</th>\n      <td>SibSp</td>\n      <td>int64</td>\n      <td>0.000000</td>\n    </tr>\n    <tr>\n      <th>Parch</th>\n      <td>Parch</td>\n      <td>int64</td>\n      <td>0.000000</td>\n    </tr>\n    <tr>\n      <th>Ticket</th>\n      <td>Ticket</td>\n      <td>object</td>\n      <td>0.000000</td>\n    </tr>\n    <tr>\n      <th>Fare</th>\n      <td>Fare</td>\n      <td>float64</td>\n      <td>0.000000</td>\n    </tr>\n    <tr>\n      <th>Cabin</th>\n      <td>Cabin</td>\n      <td>object</td>\n      <td>0.771044</td>\n    </tr>\n    <tr>\n      <th>Embarked</th>\n      <td>Embarked</td>\n      <td>object</td>\n      <td>0.002245</td>\n    </tr>\n  </tbody>\n</table>\n</div>"
     },
     "metadata": {},
     "execution_count": 16
    }
   ],
   "source": [
    "aux"
   ]
  },
  {
   "cell_type": "code",
   "execution_count": 11,
   "metadata": {},
   "outputs": [],
   "source": [
    "# Preenchendo os valores faltantes de idade, utilizando a média das idades disponíveis\n",
    "df['Age'] = df['Age'].fillna(df['Age'].mean())"
   ]
  },
  {
   "cell_type": "code",
   "execution_count": 17,
   "metadata": {},
   "outputs": [],
   "source": [
    "# A coluna Cabin possui 77% dos dados faltantes, a melhor opção, caso possível, seria descartá-la.\n",
    "df['Cabin'] = df['Cabin'].fillna('Unknown')"
   ]
  },
  {
   "cell_type": "code",
   "execution_count": 23,
   "metadata": {},
   "outputs": [
    {
     "output_type": "execute_result",
     "data": {
      "text/plain": "Unknown        687\nG6               4\nB96 B98          4\nC23 C25 C27      4\nF2               3\n              ... \nE63              1\nE58              1\nC82              1\nB30              1\nD47              1\nName: Cabin, Length: 148, dtype: int64"
     },
     "metadata": {},
     "execution_count": 23
    }
   ],
   "source": [
    "df.Cabin.value_counts()"
   ]
  },
  {
   "cell_type": "code",
   "execution_count": 28,
   "metadata": {},
   "outputs": [
    {
     "output_type": "execute_result",
     "data": {
      "text/plain": "891"
     },
     "metadata": {},
     "execution_count": 28
    }
   ],
   "source": [
    "# Mostra a quantidade de linhas\n",
    "df.shape[0]"
   ]
  }
 ]
}