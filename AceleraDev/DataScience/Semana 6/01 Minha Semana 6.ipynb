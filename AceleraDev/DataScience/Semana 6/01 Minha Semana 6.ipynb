{
 "cells": [
  {
   "cell_type": "markdown",
   "metadata": {},
   "source": [
    "# AceleraDev DataScience\n",
    "\n",
    "## Setup\n",
    "\n",
    "kaggle: House Prices Advanced regression techniques"
   ]
  },
  {
   "cell_type": "markdown",
   "metadata": {},
   "source": [
    "## ML Canvas\n",
    "\n",
    "### Qual é a proposta de valor?\n",
    "O que é esperado do modelo, para que ele servirá, para quem servirá.\n",
    "\n",
    "Ex: Prever o preço do imóvel com base nas variáveis x,y,z\n",
    "\n",
    "### Para que tipo de decisões o modelo será usado?\n",
    "\n",
    "Será necessário calcular de quanto em quanto tempo?\n",
    "\n",
    "### Quais são minhas fontes de dados?\n",
    "\n",
    "- Que tipos de fontes?\n",
    "- São internas? Externas?\n",
    "- Nacional, Internacional?\n",
    "- Como os dados serão coletados?\n",
    "- Qual a complexidade de obter os dados?\n",
    "\n",
    "As fontes não precisar ser fixas, é possível incluir remover fontes no decorrer do desenvolvimento, mas é necessário fazer uma discussão inicial\n",
    "\n",
    "### Discussão de modelos\n",
    "\n",
    "- Levanta mento de modelos, métodos, técnicas.\n",
    "\n",
    "### Avaliações prévias\n",
    "\n",
    "Métodos e métricas para avaliar o sistema antes dele ser empregado."
   ]
  },
  {
   "cell_type": "code",
   "execution_count": null,
   "metadata": {},
   "outputs": [],
   "source": [
    "import pandas as pd"
   ]
  },
  {
   "cell_type": "code",
   "execution_count": null,
   "metadata": {},
   "outputs": [],
   "source": [
    "df = pd.read_csv(\"train.csv\")"
   ]
  },
  {
   "cell_type": "code",
   "execution_count": null,
   "metadata": {},
   "outputs": [],
   "source": [
    "df.columns"
   ]
  },
  {
   "cell_type": "code",
   "execution_count": null,
   "metadata": {},
   "outputs": [],
   "source": [
    "df.isna().sum() "
   ]
  }
 ],
 "metadata": {
  "language_info": {
   "codemirror_mode": {
    "name": "ipython",
    "version": 3
   },
   "file_extension": ".py",
   "mimetype": "text/x-python",
   "name": "python",
   "nbconvert_exporter": "python",
   "pygments_lexer": "ipython3",
   "version": "3.8.2-final"
  },
  "orig_nbformat": 2,
  "kernelspec": {
   "name": "python38264bitvenvvenv6e9ff27c778a4c56bbda8025877f4e68",
   "display_name": "Python 3.8.2 64-bit ('venv': venv)"
  }
 },
 "nbformat": 4,
 "nbformat_minor": 2
}