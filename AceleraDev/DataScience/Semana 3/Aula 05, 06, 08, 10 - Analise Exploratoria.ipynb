{
 "cells": [
  {
   "cell_type": "markdown",
   "metadata": {},
   "source": [
    "# AceleraDev Codenation Semana 3 Aula 5\n",
    "\n",
    "Serão analisados os dados disponíveis no Kaggle:\n",
    "`https://www.kaggle.com/rubenssjr/brasilian-houses-to-rent/data`\n",
    "\n",
    "## Colunas\n",
    "\n",
    "- id\n",
    "- city: Cidade onde o imóvel está localizada / City where the property is located\n",
    "- area: Area do imovel / Property area\n",
    "- rooms: Numero de quartos/ Quantity of rooms\n",
    "- bathroom: Numero de banheiros / Quantity of bathroom\n",
    "- parking spaces: Numero de vagas / Quantity of parking spaces\n",
    "- floor: Andar / Floor\n",
    "- animal: Aceita animais? / Acept animals?\n",
    "- furniture: Mobilhada? / Furniture?\n",
    "- hoa: Valor do condominio / Homeowners association tax\n",
    "- rent amount: Valor do Aluguel / Rent amount\n",
    "- property tax: IPTU / Property tax\n",
    "- fire insurance:  Seguro Incendio / Fire Insurance\n",
    "- total: Valor total / Total"
   ]
  },
  {
   "cell_type": "markdown",
   "metadata": {},
   "source": [
    "## Importando os pacotes"
   ]
  },
  {
   "cell_type": "code",
   "execution_count": null,
   "metadata": {},
   "outputs": [],
   "source": [
    "import pandas as pd"
   ]
  },
  {
   "cell_type": "markdown",
   "metadata": {},
   "source": [
    "## Realizando a análise inicial do DataFrame"
   ]
  },
  {
   "cell_type": "code",
   "execution_count": null,
   "metadata": {},
   "outputs": [],
   "source": [
    "df = pd.read_csv('houses_to_rent_v2.csv')"
   ]
  },
  {
   "cell_type": "code",
   "execution_count": null,
   "metadata": {},
   "outputs": [],
   "source": [
    "df.head(5)"
   ]
  },
  {
   "cell_type": "code",
   "execution_count": null,
   "metadata": {},
   "outputs": [],
   "source": [
    "df.info()"
   ]
  },
  {
   "cell_type": "code",
   "execution_count": null,
   "metadata": {},
   "outputs": [],
   "source": [
    "df.isna().sum()"
   ]
  },
  {
   "cell_type": "markdown",
   "metadata": {},
   "source": [
    "## Problema: Explorar o valor do aluguel (rent amount R$)\n",
    "\n",
    "### Estatística univariada"
   ]
  },
  {
   "cell_type": "code",
   "execution_count": null,
   "metadata": {},
   "outputs": [],
   "source": [
    "df.rename(columns={'rent amount (R$)': 'valor_aluguel'}, inplace=True)"
   ]
  },
  {
   "cell_type": "code",
   "execution_count": null,
   "metadata": {},
   "outputs": [],
   "source": [
    "df.valor_aluguel.mean()"
   ]
  },
  {
   "cell_type": "code",
   "execution_count": null,
   "metadata": {},
   "outputs": [],
   "source": [
    "df.valor_aluguel.median()"
   ]
  },
  {
   "cell_type": "markdown",
   "metadata": {},
   "source": [
    "Como a mediana é menor que a média, já podemos prever que os dados não serão uniformemente distribuídos, e que podemos ter outliers no conjunto"
   ]
  },
  {
   "cell_type": "code",
   "execution_count": null,
   "metadata": {},
   "outputs": [],
   "source": [
    "df.valor_aluguel.std()"
   ]
  },
  {
   "cell_type": "markdown",
   "metadata": {},
   "source": [
    "O valor elevado do desvio padrão indica que os dados são bastante heterogêneos"
   ]
  },
  {
   "cell_type": "code",
   "execution_count": null,
   "metadata": {},
   "outputs": [],
   "source": [
    "df.valor_aluguel.describe()"
   ]
  },
  {
   "cell_type": "markdown",
   "metadata": {},
   "source": [
    "Podemos ver que do 75% para o valor máximo, existe um crescimento de 9x do valor, indicando presença de outliers"
   ]
  },
  {
   "cell_type": "code",
   "execution_count": null,
   "metadata": {},
   "outputs": [],
   "source": [
    "df.valor_aluguel.plot(kind='hist', bins=100)"
   ]
  },
  {
   "cell_type": "markdown",
   "metadata": {},
   "source": [
    "O histograma nos mostra que temos uma concentração maior de valores menores de aluguel, com quantidades menores ao passar de 5000.\n",
    "Isso reforça a informação anterior exibida pelo describe (75% estão entre 0 e 5000)"
   ]
  },
  {
   "cell_type": "code",
   "execution_count": null,
   "metadata": {},
   "outputs": [],
   "source": [
    "# Analisar a assimetria e a curtose não fazem muito sentido com essa distribuição, pois ela é bem diferente de uma distribuição normal, porém, a título de didática\n",
    "df.valor_aluguel.skew()\n",
    "# A assimetria > 0 representa que os dados se concentram mais próximos da origem"
   ]
  },
  {
   "cell_type": "code",
   "execution_count": null,
   "metadata": {},
   "outputs": [],
   "source": [
    "df.valor_aluguel.kurtosis()\n",
    "# A Curtose maior que zero representa uma curva leptocúrtica, ou seja, mais afunilada"
   ]
  },
  {
   "cell_type": "markdown",
   "metadata": {},
   "source": [
    "### Estatística descritiva multivariada (Verifica antes o conteúdo da aula 07)\n",
    "\n",
    "Nesta parte estaremos em busca de **perguntas** e **hipóteses**\n",
    "\n",
    "#### Perguntas\n",
    "- Qual a cidade com a média de aluguel mais cara?\n",
    "- Quantos banheiros existem nas residências com aluguéis mais caros?\n",
    "- Os imóveis mais caros aceitam animal?\n",
    "- Os imóveis mais caros são mobiliados?\n",
    "\n"
   ]
  },
  {
   "cell_type": "code",
   "execution_count": null,
   "metadata": {},
   "outputs": [],
   "source": [
    "# Qual a cidade com a média de aluguel mais alta?\n",
    "df.groupby('city').agg({\"valor_aluguel\": [\"mean\",\"median\"]}).sort_values(('valor_aluguel', 'mean'), ascending=False)"
   ]
  },
  {
   "cell_type": "code",
   "execution_count": null,
   "metadata": {},
   "outputs": [],
   "source": [
    "# Quantos banheiros em média existem nas residencias com aluguéis mais altos\n",
    "df.valor_aluguel.describe()"
   ]
  },
  {
   "cell_type": "code",
   "execution_count": null,
   "metadata": {},
   "outputs": [],
   "source": [
    "# Vamos considerar aluguéis mais altos como os 25% maiores (acima de 5000)\n",
    "valorAlto = df.valor_aluguel.describe()[\"75%\"]\n",
    "df[df.valor_aluguel > valorAlto].bathroom.mean().round(0)\n",
    "# Com isso podemos afirmar que os aluguéis mais caros possuem em média 4 banheiros"
   ]
  },
  {
   "cell_type": "code",
   "execution_count": null,
   "metadata": {},
   "outputs": [],
   "source": [
    "# Os imóveis mais caros aceitam animais?\n",
    "df[df.valor_aluguel > valorAlto].animal.value_counts().acept/df[df.valor_aluguel > valorAlto].animal.count()\n",
    "# Com isso podemos ver que 82% dos aluguéis mais caros aceitam animais"
   ]
  },
  {
   "cell_type": "code",
   "execution_count": null,
   "metadata": {},
   "outputs": [],
   "source": [
    "# Os imóveis mais caros são mobiliados?\n",
    "df[df.valor_aluguel > valorAlto].furniture.value_counts().furnished / df[df.valor_aluguel > valorAlto].furniture.count()\n",
    "# Assim podemos ver que apenas 35% dos imóveis mais caros são mobiliados"
   ]
  },
  {
   "cell_type": "markdown",
   "metadata": {},
   "source": [
    "#### Hipóteses\n",
    "- São Paulo tem o aluguel mais caro\n",
    "- Quanto mais banheiros em um imóvel maior o valor do aluguel\n",
    "-  Os imóveis com mobilia tem o aluguel mais alto"
   ]
  },
  {
   "cell_type": "code",
   "execution_count": null,
   "metadata": {},
   "outputs": [],
   "source": [
    "# São Paulo tem o aluguel mais caro\n",
    "df[['valor_aluguel', 'bathroom']].corr(method='spearman')\n",
    "# O valor é acima de 0,7 representando uma correlação alta entre as variáveis"
   ]
  },
  {
   "cell_type": "code",
   "execution_count": null,
   "metadata": {},
   "outputs": [],
   "source": [
    "# Exibindo a correlação de todos os valores 'int64' com o valor do aluguel\n",
    "df.select_dtypes('int64').corr().valor_aluguel.sort_values(ascending=False)"
   ]
  },
  {
   "cell_type": "markdown",
   "metadata": {},
   "source": [
    "## Visualização de dados"
   ]
  },
  {
   "cell_type": "code",
   "execution_count": null,
   "metadata": {},
   "outputs": [],
   "source": [
    "import seaborn as sns\n",
    "import matplotlib.pyplot as plt"
   ]
  },
  {
   "cell_type": "code",
   "execution_count": null,
   "metadata": {},
   "outputs": [],
   "source": [
    "sns.countplot(x = 'city', data = df)"
   ]
  },
  {
   "cell_type": "code",
   "execution_count": null,
   "metadata": {},
   "outputs": [],
   "source": [
    "plt.figure(figsize=(12,6))\n",
    "plt.title(\"Média do valor de aluguel por cidade\")\n",
    "sns.barplot(x='city', y='valor_aluguel', data = df.groupby('city').agg({'valor_aluguel':'mean'}).reset_index())\n",
    "plt.xticks(rotation = 90)\n",
    "plt.show()"
   ]
  },
  {
   "cell_type": "code",
   "execution_count": null,
   "metadata": {},
   "outputs": [],
   "source": [
    "sns.distplot(df['valor_aluguel'])"
   ]
  },
  {
   "cell_type": "code",
   "execution_count": null,
   "metadata": {},
   "outputs": [],
   "source": [
    "sns.scatterplot(x='valor_aluguel', y='bathroom', data=df, hue='city', size='animal')"
   ]
  },
  {
   "cell_type": "code",
   "execution_count": null,
   "metadata": {},
   "outputs": [],
   "source": [
    "sns.heatmap(df.corr(), annot=True)"
   ]
  },
  {
   "cell_type": "code",
   "execution_count": null,
   "metadata": {},
   "outputs": [],
   "source": [
    "g = sns.FacetGrid(df, col='city', row='animal')\n",
    "g = g.map(plt.hist, 'valor_aluguel')"
   ]
  }
 ],
 "metadata": {
  "language_info": {
   "codemirror_mode": {
    "name": "ipython",
    "version": 3
   },
   "file_extension": ".py",
   "mimetype": "text/x-python",
   "name": "python",
   "nbconvert_exporter": "python",
   "pygments_lexer": "ipython3",
   "version": "3.8.2-final"
  },
  "orig_nbformat": 2,
  "kernelspec": {
   "name": "python38264bitvenvvenv6e9ff27c778a4c56bbda8025877f4e68",
   "display_name": "Python 3.8.2 64-bit ('venv': venv)"
  }
 },
 "nbformat": 4,
 "nbformat_minor": 2
}