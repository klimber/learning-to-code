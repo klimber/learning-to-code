{
 "cells": [
  {
   "cell_type": "markdown",
   "metadata": {},
   "source": [
    "# AceleraDev Codenation Semana 3 Aula 5\n",
    "\n",
    "Serão analisados os dados disponíveis no Kaggle:\n",
    "`https://www.kaggle.com/rubenssjr/brasilian-houses-to-rent/data`\n",
    "\n",
    "## Colunas\n",
    "\n",
    "- id\n",
    "- city: Cidade onde o imóvel está localizada / City where the property is located\n",
    "- area: Area do imovel / Property area\n",
    "- rooms: Numero de quartos/ Quantity of rooms\n",
    "- bathroom: Numero de banheiros / Quantity of bathroom\n",
    "- parking spaces: Numero de vagas / Quantity of parking spaces\n",
    "- floor: Andar / Floor\n",
    "- animal: Aceita animais? / Acept animals?\n",
    "- furniture: Mobilhada? / Furniture?\n",
    "- hoa: Valor do condominio / Homeowners association tax\n",
    "- rent amount: Valor do Aluguel / Rent amount\n",
    "- property tax: IPTU / Property tax\n",
    "- fire insurance:  Seguro Incendio / Fire Insurance\n",
    "- total: Valor total / Total"
   ]
  },
  {
   "cell_type": "markdown",
   "metadata": {},
   "source": [
    "## Importando os pacotes"
   ]
  },
  {
   "cell_type": "code",
   "execution_count": null,
   "metadata": {},
   "outputs": [],
   "source": [
    "import pandas as pd"
   ]
  },
  {
   "cell_type": "markdown",
   "metadata": {},
   "source": [
    "## Realizando a análise inicial do DataFrame"
   ]
  },
  {
   "cell_type": "code",
   "execution_count": null,
   "metadata": {},
   "outputs": [],
   "source": [
    "df = pd.read_csv('houses_to_rent_v2.csv')"
   ]
  },
  {
   "cell_type": "code",
   "execution_count": null,
   "metadata": {},
   "outputs": [],
   "source": [
    "df.head(5)"
   ]
  },
  {
   "cell_type": "code",
   "execution_count": null,
   "metadata": {},
   "outputs": [],
   "source": [
    "df.info()"
   ]
  },
  {
   "cell_type": "code",
   "execution_count": null,
   "metadata": {},
   "outputs": [],
   "source": [
    "df.isna().sum()"
   ]
  },
  {
   "cell_type": "markdown",
   "metadata": {},
   "source": [
    "## Problema: Explorar o valor do aluguel (rent amount R$)\n",
    "\n",
    "### Estatística univariada"
   ]
  },
  {
   "cell_type": "code",
   "execution_count": null,
   "metadata": {},
   "outputs": [],
   "source": [
    "df.rename(columns={'rent amount (R$)': 'valor_aluguel'}, inplace=True)"
   ]
  },
  {
   "cell_type": "code",
   "execution_count": null,
   "metadata": {},
   "outputs": [],
   "source": [
    "df.valor_aluguel.mean()"
   ]
  },
  {
   "cell_type": "code",
   "execution_count": null,
   "metadata": {},
   "outputs": [],
   "source": [
    "df.valor_aluguel.median()"
   ]
  },
  {
   "cell_type": "markdown",
   "metadata": {},
   "source": [
    "Como a mediana é menor que a média, já podemos prever que os dados não serão uniformemente distribuídos, e que podemos ter outliers no conjunto"
   ]
  },
  {
   "cell_type": "code",
   "execution_count": null,
   "metadata": {},
   "outputs": [],
   "source": [
    "df.valor_aluguel.std()"
   ]
  },
  {
   "cell_type": "markdown",
   "metadata": {},
   "source": [
    "O valor elevado do desvio padrão indica que os dados são bastante heterogêneos"
   ]
  },
  {
   "cell_type": "code",
   "execution_count": null,
   "metadata": {},
   "outputs": [],
   "source": [
    "df.valor_aluguel.describe()"
   ]
  },
  {
   "cell_type": "markdown",
   "metadata": {},
   "source": [
    "Podemos ver que do 75% para o valor máximo, existe um crescimento de 9x do valor, indicando presença de outliers"
   ]
  },
  {
   "cell_type": "code",
   "execution_count": null,
   "metadata": {},
   "outputs": [],
   "source": [
    "df.valor_aluguel.plot(kind='hist', bins=100)"
   ]
  },
  {
   "cell_type": "markdown",
   "metadata": {},
   "source": [
    "O histograma nos mostra que temos uma concentração maior de valores menores de aluguel, com quantidades menores ao passar de 5000.\n",
    "Isso reforça a informação anterior exibida pelo describe (75% estão entre 0 e 5000)"
   ]
  },
  {
   "cell_type": "code",
   "execution_count": null,
   "metadata": {},
   "outputs": [],
   "source": [
    "# Analisar a assimetria e a curtose não fazem muito sentido com essa distribuição, pois ela é bem diferente de uma distribuição normal, porém, a título de didática\n",
    "df.valor_aluguel.skew()\n",
    "# A assimetria > 0 representa que os dados se concentram mais próximos da origem"
   ]
  },
  {
   "cell_type": "code",
   "execution_count": null,
   "metadata": {},
   "outputs": [],
   "source": [
    "df.valor_aluguel.kurtosis()\n",
    "# A Curtose maior que zero representa uma curva leptocúrtica, ou seja, mais afunilada"
   ]
  },
   "file_extension": ".py",
   "mimetype": "text/x-python",
   "name": "python",
   "nbconvert_exporter": "python",
   "pygments_lexer": "ipython3",
   "version": "3.8.2-final"
  },
  "orig_nbformat": 2,
  "kernelspec": {
   "name": "python38264bitvenvvenv6e9ff27c778a4c56bbda8025877f4e68",
   "display_name": "Python 3.8.2 64-bit ('venv': venv)"
  }
 },
 "nbformat": 4,
 "nbformat_minor": 2
}