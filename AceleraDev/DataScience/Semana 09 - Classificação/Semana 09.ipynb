{
 "cells": [
  {
   "cell_type": "markdown",
   "metadata": {},
   "source": [
    "# Semana 09 - Classificação\n",
    "\n",
    "Conteúdo sobre problemas de Classificação"
   ]
  },
  {
   "cell_type": "markdown",
   "metadata": {},
   "source": [
    "## Machine Learning on Google Cloud\n",
    "\n",
    "- Google model + Google data -> API's\n",
    "- Google model + My data -> AutoML\n",
    "- **My model + My data -> AI Platform**"
   ]
  },
  {
   "cell_type": "markdown",
   "metadata": {},
   "source": [
    "## AvenueCode Processo\n",
    "\n",
    "**Quick Win** / **Major Project**  \n",
    "----------/---------------  \n",
    "** Fill _ In** / **Thankless Task**  \n"
   ]
  },
  {
   "cell_type": "markdown",
   "metadata": {},
   "source": []
  },
  {
   "cell_type": "markdown",
   "metadata": {},
   "source": [
    "## O Problema da Classificação\n",
    "\n",
    "### A matriz de confusão\n",
    "\n",
    "Ótima ferramenta para identificar a performance dos modelos de classificação"
   ]
  }
 ],
 "metadata": {
  "language_info": {
   "codemirror_mode": {
    "name": "ipython",
    "version": 3
   },
   "file_extension": ".py",
   "mimetype": "text/x-python",
   "name": "python",
   "nbconvert_exporter": "python",
   "pygments_lexer": "ipython3",
   "version": 3
  },
  "orig_nbformat": 2
 },
 "nbformat": 4,
 "nbformat_minor": 2
}