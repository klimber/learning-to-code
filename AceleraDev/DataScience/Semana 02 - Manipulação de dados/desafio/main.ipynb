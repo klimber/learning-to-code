{
 "cells": [
  {
   "cell_type": "markdown",
   "metadata": {},
   "source": [
    "# Desafio 1\n",
    "\n",
    "Para esse desafio, vamos trabalhar com o data set [Black Friday](https://www.kaggle.com/mehdidag/black-friday), que reúne dados sobre transações de compras em uma loja de varejo.\n",
    "\n",
    "Vamos utilizá-lo para praticar a exploração de data sets utilizando pandas. Você pode fazer toda análise neste mesmo notebook, mas as resposta devem estar nos locais indicados.\n",
    "\n",
    "> Obs.: Por favor, não modifique o nome das funções de resposta."
   ]
  },
  {
   "cell_type": "markdown",
   "metadata": {},
   "source": [
    "## _Set up_ da análise"
   ]
  },
  {
   "cell_type": "code",
   "execution_count": null,
   "metadata": {},
   "outputs": [],
   "source": [
    "import pandas as pd\n",
    "import numpy as np"
   ]
  },
  {
   "cell_type": "code",
   "execution_count": null,
   "metadata": {},
   "outputs": [],
   "source": [
    "black_friday = pd.read_csv(\"black_friday.csv\")"
   ]
  },
  {
   "cell_type": "markdown",
   "metadata": {},
   "source": [
    "## Inicie sua análise a partir daqui"
   ]
  },
  {
   "cell_type": "code",
   "execution_count": null,
   "metadata": {},
   "outputs": [],
   "source": [
    "# Imprime as primeiras 10 linhas do dataFrame para visualizarmos os dados\n",
    "black_friday.head(10)"
   ]
  },
  {
   "cell_type": "code",
   "execution_count": null,
   "metadata": {},
   "outputs": [],
   "source": [
    "# Quantidade de Linhas e Colunas do DataFrame\n",
    "black_friday.shape"
   ]
  },
  {
   "cell_type": "code",
   "execution_count": null,
   "metadata": {},
   "outputs": [],
   "source": [
    "# Tipos de dados atuais das colunas\n",
    "black_friday.info()"
   ]
  },
  {
   "cell_type": "code",
   "execution_count": null,
   "metadata": {},
   "outputs": [],
   "source": [
    "# Armazenando a resposta para a Q4 antes de realizar modificações no DataFrame\n",
    "R4 = black_friday.dtypes.nunique()"
   ]
  },
  {
   "cell_type": "code",
   "execution_count": null,
   "metadata": {},
   "outputs": [],
   "source": [
    "# Verificando a quantidade de dados únicos em cada coluna\n",
    "black_friday.nunique()"
   ]
  },
  {
   "cell_type": "code",
   "execution_count": null,
   "metadata": {},
   "outputs": [],
   "source": [
    "# Gênero é um tipo de dados categórico, ajustando o tipo de dados\n",
    "black_friday.Gender = black_friday.Gender.astype(\"category\")\n",
    "black_friday.Gender\n",
    "# Vemos aqui que são utilizadas as letras M (Male) e F (Female) para designar os sexos."
   ]
  },
  {
   "cell_type": "code",
   "execution_count": null,
   "metadata": {},
   "outputs": [],
   "source": [
    "# Age neste DataFrame represeta faixa-etária, portanto também é categórico\n",
    "black_friday.Age = black_friday.Age.astype(\"category\")\n",
    "black_friday.Age\n",
    "# Aqui podemos ver que são utilizadas as faixas etárias: 0-17, 18-25, 26-35, 36-45, 46-50, 51-55, 55+"
   ]
  },
  {
   "cell_type": "code",
   "execution_count": null,
   "metadata": {},
   "outputs": [],
   "source": [
    "# Existen número finito de tipos de produtos, este também representa uma categoria\n",
    "black_friday.Product_ID = black_friday.Product_ID.astype(\"category\")\n",
    "black_friday.Product_ID\n",
    "# Vemos então que foram vendidos um total de 3623 produtos distintos"
   ]
  },
  {
   "cell_type": "code",
   "execution_count": null,
   "metadata": {},
   "outputs": [],
   "source": [
    "# Cada User_ID representa um usuário único, portanto também é uma informação categórica\n",
    "black_friday.User_ID = black_friday.User_ID.astype(\"category\")\n",
    "black_friday.User_ID\n",
    "# Aqui percebemos que há 5891 usuários distintos no DataFrame"
   ]
  },
  {
   "cell_type": "code",
   "execution_count": null,
   "metadata": {},
   "outputs": [],
   "source": [
    "# Occupation provavelmente representa o código de uma determinada ocupação no sistema, sendo também categórico\n",
    "black_friday.Occupation = black_friday.Occupation.astype(\"category\")\n",
    "black_friday.Occupation\n",
    "# Vemos aqui que há 21 ocupações distintas"
   ]
  },
  {
   "cell_type": "code",
   "execution_count": null,
   "metadata": {},
   "outputs": [],
   "source": [
    "# Analisando a coluna Marital_Status através do método unique(), podemos ver que só há 2 valores possíveis: 0 e 1.\n",
    "black_friday.Marital_Status.unique()"
   ]
  },
  {
   "cell_type": "code",
   "execution_count": null,
   "metadata": {},
   "outputs": [],
   "source": [
    "# A coluna provavelmente se trata de um valor booleano onde 0 = \"Solteiro\" e 1 = \"Casado\", adequanto o dataType:\n",
    "black_friday.Marital_Status = black_friday.Marital_Status.astype(\"bool\")\n",
    "black_friday.Marital_Status"
   ]
  },
  {
   "cell_type": "code",
   "execution_count": null,
   "metadata": {},
   "outputs": [],
   "source": [
    "# As colunas Product_Category_1, Product_Category_2 e Product_Category_3, como o próprio nome sugere, então realizando a análise de value_counts, representam categorias\n",
    "black_friday.Product_Category_3.value_counts() # Realizar a checagem para as 3 colunas"
   ]
  },
  {
   "cell_type": "code",
   "execution_count": null,
   "metadata": {},
   "outputs": [],
   "source": [
    "# Realizando o ajuste no tipo de dados, realizado cast para int pois não há números decimais, e então categorizado os dados\n",
    "# Como não há muitas categorias, e elas possuem valores vazios, utilizarei \"Int8\"\n",
    "black_friday.Product_Category_1 = black_friday.Product_Category_1.astype(\"Int8\").astype(\"category\")\n",
    "black_friday.Product_Category_2 = black_friday.Product_Category_2.astype(\"Int8\").astype(\"category\")\n",
    "black_friday.Product_Category_3 = black_friday.Product_Category_3.astype(\"Int8\").astype(\"category\")"
   ]
  },
  {
   "cell_type": "code",
   "execution_count": null,
   "metadata": {},
   "outputs": [],
   "source": [
    "# Realizando tratamento similar para as colunas City_Category e Stay_In_Current_City_Years\n",
    "black_friday.City_Category = black_friday.City_Category.astype(\"category\")\n",
    "black_friday.City_Category"
   ]
  },
  {
   "cell_type": "code",
   "execution_count": null,
   "metadata": {},
   "outputs": [],
   "source": [
    "black_friday.Stay_In_Current_City_Years = black_friday.Stay_In_Current_City_Years.astype(\"category\")\n",
    "black_friday.Stay_In_Current_City_Years"
   ]
  },
  {
   "cell_type": "code",
   "execution_count": null,
   "metadata": {},
   "outputs": [],
   "source": [
    "# Ao verificar novamente as informações do dataFrame, verificamos uma redução significativa no uso de memória\n",
    "black_friday.info()\n",
    "# De 49,2 Mb para 11,2 Mb, isso tornará a computação dos dados mais fácil"
   ]
  },
  {
   "cell_type": "markdown",
   "metadata": {},
   "source": [
    "## Questão 1\n",
    "\n",
    "Quantas observações e quantas colunas há no dataset? Responda no formato de uma tuple `(n_observacoes, n_colunas)`."
   ]
  },
  {
   "cell_type": "code",
   "execution_count": null,
   "metadata": {},
   "outputs": [],
   "source": [
    "def q1():\n",
    "    # A resposta é o retorno do método shape:\n",
    "    return black_friday.shape"
   ]
  },
  {
   "cell_type": "markdown",
   "metadata": {},
   "source": [
    "## Questão 2\n",
    "\n",
    "Há quantas mulheres com idade entre 26 e 35 anos no dataset? Responda como um único escalar."
   ]
  },
  {
   "cell_type": "code",
   "execution_count": null,
   "metadata": {},
   "outputs": [],
   "source": [
    "def q2():\n",
    "    # Filtrando pelo Gênero e Faixa Etária, e então retornando a contagem de usuários únicos\n",
    "    # return black_friday[(black_friday.Gender == \"F\") & (black_friday.Age == \"26-35\")].User_ID.nunique()\n",
    "    # Trocado pela contagem de observações para adequar ao teste da codenation\n",
    "    return int(black_friday[(black_friday.Gender == \"F\") & (black_friday.Age == \"26-35\")].User_ID.count())"
   ]
  },
  {
   "cell_type": "markdown",
   "metadata": {},
   "source": [
    "## Questão 3\n",
    "\n",
    "Quantos usuários únicos há no dataset? Responda como um único escalar."
   ]
  },
  {
   "cell_type": "code",
   "execution_count": null,
   "metadata": {},
   "outputs": [],
   "source": [
    "def q3():\n",
    "    # Número de valores únicos na coluna User_ID\n",
    "    return black_friday.User_ID.nunique()"
   ]
  },
  {
   "cell_type": "markdown",
   "metadata": {},
   "source": [
    "## Questão 4\n",
    "\n",
    "Quantos tipos de dados diferentes existem no dataset? Responda como um único escalar."
   ]
  },
  {
   "cell_type": "code",
   "execution_count": null,
   "metadata": {},
   "outputs": [],
   "source": [
    "def q4():\n",
    "    # A resposta pra essa pergunta depende dos tipos de transformações que foram realizadas no dataset... não acho uma pergunta apropriada.\n",
    "    # Vou responder com o número dtypes antes das transformações...\n",
    "    return R4"
   ]
  },
  {
   "cell_type": "markdown",
   "metadata": {},
   "source": [
    "## Questão 5\n",
    "\n",
    "Qual porcentagem dos registros possui ao menos um valor null (`None`, `ǸaN` etc)? Responda como um único escalar entre 0 e 1."
   ]
  },
  {
   "cell_type": "code",
   "execution_count": null,
   "metadata": {},
   "outputs": [],
   "source": [
    "def q5():\n",
    "    # O número de registros completos é a quantidade de linhas do DataFrame.dropna()\n",
    "    # O número de registros completos sobre o total de registros é a porcentagem de completos\n",
    "    # Subtraindo este valor de 1, obtemos a resposta\n",
    "    return 1 - black_friday.dropna().shape[0]/black_friday.shape[0]"
   ]
  },
  {
   "cell_type": "markdown",
   "metadata": {},
   "source": [
    "## Questão 6\n",
    "\n",
    "Quantos valores null existem na variável (coluna) com o maior número de null? Responda como um único escalar."
   ]
  },
  {
   "cell_type": "code",
   "execution_count": null,
   "metadata": {},
   "outputs": [],
   "source": [
    "def q6():\n",
    "    # Verifica coluna a coluna o número de valores faltantes, retorna o maior\n",
    "    return int(black_friday.isna().sum().max())"
   ]
  },
  {
   "cell_type": "markdown",
   "metadata": {},
   "source": [
    "## Questão 7\n",
    "\n",
    "Qual o valor mais frequente (sem contar nulls) em `Product_Category_3`? Responda como um único escalar."
   ]
  },
  {
   "cell_type": "code",
   "execution_count": null,
   "metadata": {},
   "outputs": [],
   "source": [
    "def q7():\n",
    "    # Realiza a contagem dos valores da série, considerando ordem decrescente, e retorna o primeiro índice.\n",
    "    return black_friday.Product_Category_3.value_counts(ascending=False).first_valid_index()"
   ]
  },
  {
   "cell_type": "markdown",
   "metadata": {},
   "source": [
    "## Questão 8\n",
    "\n",
    "Qual a nova média da variável (coluna) `Purchase` após sua normalização? Responda como um único escalar."
   ]
  },
  {
   "cell_type": "code",
   "execution_count": null,
   "metadata": {},
   "outputs": [],
   "source": [
    "def q8():\n",
    "    # Normaliza a coluna Purchase e retorna a sua média\n",
    "    purchaseMin = black_friday.Purchase.min()\n",
    "    purchaseMax = black_friday.Purchase.max()\n",
    "    normalizedPurchase = (black_friday.Purchase - purchaseMin)/(purchaseMax - purchaseMin)\n",
    "    return float(normalizedPurchase.mean())"
   ]
  },
  {
   "cell_type": "markdown",
   "metadata": {},
   "source": [
    "## Questão 9\n",
    "\n",
    "Quantas ocorrências entre -1 e 1 inclusive existem da variáel `Purchase` após sua padronização? Responda como um único escalar."
   ]
  },
  {
   "cell_type": "code",
   "execution_count": null,
   "metadata": {},
   "outputs": [],
   "source": [
    "def q9():\n",
    "    # Padroniza a coluna Purchase e retona a quantidade de registros entre -1 e 1\n",
    "    purchaseStd = black_friday.Purchase.std()\n",
    "    purchaseMean = black_friday.Purchase.mean()\n",
    "    standardizedPurchase = (black_friday.Purchase - purchaseMean)/purchaseStd\n",
    "    return int(standardizedPurchase[standardizedPurchase.abs() <= 1].count())"
   ]
  },
  {
   "cell_type": "markdown",
   "metadata": {},
   "source": [
    "## Questão 10\n",
    "\n",
    "Podemos afirmar que se uma observação é null em `Product_Category_2` ela também o é em `Product_Category_3`? Responda com um bool (`True`, `False`)."
   ]
  },
  {
   "cell_type": "code",
   "execution_count": null,
   "metadata": {},
   "outputs": [],
   "source": [
    "def q10():\n",
    "    # Filtra o dataFrame onde Product_Category_2 é nulo\n",
    "    # Para satisfazer à condição, o número de observações válidas de Product_Category_3 deve ser 0\n",
    "    return bool(black_friday[black_friday.Product_Category_2.isna()].Product_Category_3.count() == 0)"
   ]
  }
 ],
 "metadata": {
  "kernelspec": {
   "display_name": "Python 3",
   "language": "python",
   "name": "python3"
  },
  "language_info": {
   "codemirror_mode": {
    "name": "ipython",
    "version": 3
   },
   "file_extension": ".py",
   "mimetype": "text/x-python",
   "name": "python",
   "nbconvert_exporter": "python",
   "pygments_lexer": "ipython3",
   "version": "3.8.2-final"
  }
 },
 "nbformat": 4,
 "nbformat_minor": 2
}