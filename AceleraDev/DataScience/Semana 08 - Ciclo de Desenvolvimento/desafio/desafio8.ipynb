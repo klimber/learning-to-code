{
 "cells": [
  {
   "cell_type": "markdown",
   "metadata": {},
   "source": [
    "# Descubra as melhores notas de matemática do ENEM 2016\n",
    "\n",
    "Você deverá criar um modelo para prever a nota da prova de matemática de quem participou do ENEM 2016. Para isso, usará Python, Pandas, Sklearn e Regression.\n",
    "\n",
    "\n",
    "## Tópicos\n",
    "\n",
    "Neste desafio você aprenderá:\n",
    "\n",
    "- Python\n",
    "- Pandas\n",
    "- Sklearn\n",
    "- Regression\n",
    "\n",
    "## Detalhes\n",
    "\n",
    "O contexto do desafio gira em torno dos resultados do ENEM 2016 (disponíveis no arquivo train.csv). Este arquivo, e apenas ele, deve ser utilizado para todos os desafios. Qualquer dúvida a respeito das colunas, consulte o [Dicionário dos Microdados do Enem 2016](https://s3-us-west-1.amazonaws.com/acceleration-assets-highway/data-science/dicionario-de-dados.zip).\n",
    "\n",
    "No arquivo test.csv crie um modelo para prever nota da prova de matemática (coluna `NU_NOTA_MT`) de quem participou do ENEM 2016. \n",
    "\n",
    "Salve sua resposta em um arquivo chamado answer.csv com duas colunas: `NU_INSCRICAO` e `NU_NOTA_MT`."
   ]
  },
  {
   "cell_type": "code",
   "execution_count": null,
   "metadata": {},
   "outputs": [],
   "source": [
    "# Imports\n",
    "import pandas as pd\n",
    "import numpy as np\n",
    "import matplotlib.pyplot as plt\n",
    "from sklearn.linear_model import LinearRegression, Ridge, RidgeCV, Lasso, LassoCV\n",
    "from sklearn.ensemble import RandomForestRegressor\n",
    "from sklearn.metrics import mean_squared_error, r2_score, mean_absolute_error"
   ]
  },
  {
   "cell_type": "code",
   "execution_count": null,
   "metadata": {},
   "outputs": [],
   "source": [
    "#Leitura dos dados\n",
    "df_train = pd.read_csv('train.csv')\n",
    "df_test = pd.read_csv('test.csv')"
   ]
  },
  {
   "cell_type": "code",
   "execution_count": null,
   "metadata": {},
   "outputs": [],
   "source": [
    "df_train.head(10)"
   ]
  },
  {
   "cell_type": "code",
   "execution_count": null,
   "metadata": {},
   "outputs": [],
   "source": [
    "df_test.head(10)"
   ]
  },
  {
   "cell_type": "code",
   "execution_count": null,
   "metadata": {},
   "outputs": [],
   "source": [
    "# criando coluna 'NU_NOTA_MT' no df de teste\n",
    "df_test['NU_NOTA_MT'] = 0"
   ]
  },
  {
   "cell_type": "code",
   "execution_count": null,
   "metadata": {},
   "outputs": [],
   "source": [
    "# Mantendo no df_train somente as colunas também presentes no df_test\n",
    "df_train = df_train[df_test.columns]"
   ]
  },
  {
   "cell_type": "code",
   "execution_count": null,
   "metadata": {},
   "outputs": [],
   "source": [
    "df_train.info()"
   ]
  },
  {
   "cell_type": "code",
   "execution_count": null,
   "metadata": {},
   "outputs": [],
   "source": [
    "df_test.info()"
   ]
  },
  {
   "cell_type": "code",
   "execution_count": null,
   "metadata": {},
   "outputs": [],
   "source": [
    "# Removendo colunas com muitos dados faltantes\n",
    "df_train.drop(columns=['TP_ENSINO', 'TP_DEPENDENCIA_ADM_ESC', 'Q027'], inplace=True)\n",
    "df_test.drop(columns=['TP_ENSINO', 'TP_DEPENDENCIA_ADM_ESC', 'Q027'], inplace=True)"
   ]
  },
  {
   "cell_type": "code",
   "execution_count": null,
   "metadata": {},
   "outputs": [],
   "source": [
    "# Removendo colunas com informação repetida, ou visivelmente não relacionadas com a nota de matemática\n",
    "df_train.drop(columns=['CO_UF_RESIDENCIA', 'CO_PROVA_CN', 'CO_PROVA_CH', 'CO_PROVA_LC', 'CO_PROVA_MT', 'TP_STATUS_REDACAO', 'TP_PRESENCA_CN', 'TP_PRESENCA_CH', 'TP_PRESENCA_LC'], inplace=True)\n",
    "df_test.drop(columns=['CO_UF_RESIDENCIA', 'CO_PROVA_CN', 'CO_PROVA_CH', 'CO_PROVA_LC', 'CO_PROVA_MT', 'TP_STATUS_REDACAO', 'TP_PRESENCA_CN', 'TP_PRESENCA_CH', 'TP_PRESENCA_LC'], inplace=True)"
   ]
  },
  {
   "cell_type": "code",
   "execution_count": null,
   "metadata": {},
   "outputs": [],
   "source": [
    "# Separando os números de inscrição no dataFrame de resposta, e removendo-o do dataframe original\n",
    "answer = df_test[['NU_INSCRICAO']]\n",
    "df_train.drop(columns=['NU_INSCRICAO'], inplace=True)\n",
    "df_test.drop(columns=['NU_INSCRICAO'], inplace=True)"
   ]
  },
  {
   "cell_type": "code",
   "execution_count": null,
   "metadata": {},
   "outputs": [],
   "source": [
    "# Preenchendo os dados faltantes nas notas com 0, considerando que estes alunos não fizeram a prova\n",
    "df_train.fillna({'NU_NOTA_CN': 0, 'NU_NOTA_CH': 0, 'NU_NOTA_LC': 0, 'NU_NOTA_COMP1': 0, 'NU_NOTA_COMP2': 0, 'NU_NOTA_COMP3': 0, 'NU_NOTA_COMP4': 0, 'NU_NOTA_COMP5': 0, 'NU_NOTA_REDACAO': 0, 'NU_NOTA_MT': 0}, inplace=True)\n",
    "df_test.fillna({'NU_NOTA_CN': 0, 'NU_NOTA_CH': 0, 'NU_NOTA_LC': 0, 'NU_NOTA_COMP1': 0, 'NU_NOTA_COMP2': 0, 'NU_NOTA_COMP3': 0, 'NU_NOTA_COMP4': 0, 'NU_NOTA_COMP5': 0, 'NU_NOTA_REDACAO': 0, 'NU_NOTA_MT': 0}, inplace=True)"
   ]
  },
  {
   "cell_type": "code",
   "execution_count": null,
   "metadata": {},
   "outputs": [],
   "source": [
    "df_train.isna().sum()"
   ]
  },
  {
   "cell_type": "code",
   "execution_count": null,
   "metadata": {},
   "outputs": [],
   "source": [
    "colunas_numericas = ['NU_IDADE', 'NU_NOTA_CN', 'NU_NOTA_CH', 'NU_NOTA_LC', 'NU_NOTA_COMP1', 'NU_NOTA_COMP2', 'NU_NOTA_COMP3', 'NU_NOTA_COMP4', 'NU_NOTA_COMP5', 'NU_NOTA_REDACAO', 'NU_NOTA_MT']"
   ]
  },
  {
   "cell_type": "code",
   "execution_count": null,
   "metadata": {},
   "outputs": [],
   "source": [
    "# Preparando dataframe para o OneHotEncoding\n",
    "for coluna in list(df_train.columns):\n",
    "    if coluna not in colunas_numericas:\n",
    "        df_train[coluna] = df_train[coluna].astype('object')\n",
    "        df_test[coluna] = df_train[coluna].astype('object')"
   ]
  },
  {
   "cell_type": "code",
   "execution_count": null,
   "metadata": {},
   "outputs": [],
   "source": [
    "# get_dummies com ambos os dataframes para manter mesmo número de categorias\n",
    "df_dummies = pd.get_dummies(pd.concat([df_train, df_test]))"
   ]
  },
  {
   "cell_type": "code",
   "execution_count": null,
   "metadata": {},
   "outputs": [],
   "source": [
    "# Separando novamente após OneHotEncoding\n",
    "df_train = df_dummies.iloc[:df_train.shape[0]]\n",
    "df_test = df_dummies.iloc[df_train.shape[0]:]"
   ]
  },
  {
   "cell_type": "code",
   "execution_count": null,
   "metadata": {},
   "outputs": [],
   "source": [
    "## LinearRegression\n",
    "X_train = df_train.drop(columns=['NU_NOTA_MT'])\n",
    "y_train = df_train['NU_NOTA_MT']\n",
    "\n",
    "reg = LinearRegression()\n",
    "\n",
    "reg.fit(X_train, y_train)\n",
    "y_pred = reg.predict(X_train)\n",
    "print(\"mean_squared_error:\",mean_squared_error(y_train, y_pred))\n",
    "print(\"mean_absolute_error:\",mean_absolute_error(y_train, y_pred))\n",
    "print(\"r2_score:\",r2_score(y_true=y_train, y_pred=y_pred))"
   ]
  },
  {
   "cell_type": "code",
   "execution_count": null,
   "metadata": {},
   "outputs": [],
   "source": [
    "## Lasso\n",
    "X_train = df_train.drop(columns=['NU_NOTA_MT'])\n",
    "y_train = df_train['NU_NOTA_MT']\n",
    "\n",
    "reg = Lasso()\n",
    "\n",
    "reg.fit(X_train, y_train)\n",
    "y_pred = reg.predict(X_train)\n",
    "print(\"mean_squared_error:\",mean_squared_error(y_train, y_pred))\n",
    "print(\"mean_absolute_error:\",mean_absolute_error(y_train, y_pred))\n",
    "print(\"r2_score:\",r2_score(y_true=y_train, y_pred=y_pred))"
   ]
  },
  {
   "cell_type": "code",
   "execution_count": null,
   "metadata": {},
   "outputs": [],
   "source": [
    "## LassoCV\n",
    "X_train = df_train.drop(columns=['NU_NOTA_MT'])\n",
    "y_train = df_train['NU_NOTA_MT']\n",
    "\n",
    "reg = LassoCV()\n",
    "\n",
    "reg.fit(X_train, y_train)\n",
    "y_pred = reg.predict(X_train)\n",
    "print(\"mean_squared_error:\",mean_squared_error(y_train, y_pred))\n",
    "print(\"mean_absolute_error:\",mean_absolute_error(y_train, y_pred))\n",
    "print(\"r2_score:\",r2_score(y_true=y_train, y_pred=y_pred))"
   ]
  },
  {
   "cell_type": "code",
   "execution_count": null,
   "metadata": {},
   "outputs": [],
   "source": [
    "## Ridge\n",
    "X_train = df_train.drop(columns=['NU_NOTA_MT'])\n",
    "y_train = df_train['NU_NOTA_MT']\n",
    "\n",
    "reg = Ridge()\n",
    "\n",
    "reg.fit(X_train, y_train)\n",
    "y_pred = reg.predict(X_train)\n",
    "print(\"mean_squared_error:\",mean_squared_error(y_train, y_pred))\n",
    "print(\"mean_absolute_error:\",mean_absolute_error(y_train, y_pred))\n",
    "print(\"r2_score:\",r2_score(y_true=y_train, y_pred=y_pred))"
   ]
  },
  {
   "cell_type": "code",
   "execution_count": null,
   "metadata": {},
   "outputs": [],
   "source": [
    "## RidgeCV\n",
    "X_train = df_train.drop(columns=['NU_NOTA_MT'])\n",
    "y_train = df_train['NU_NOTA_MT']\n",
    "\n",
    "reg = RidgeCV()\n",
    "\n",
    "reg.fit(X_train, y_train)\n",
    "y_pred = reg.predict(X_train)\n",
    "print(\"mean_squared_error:\",mean_squared_error(y_train, y_pred))\n",
    "print(\"mean_absolute_error:\",mean_absolute_error(y_train, y_pred))\n",
    "print(\"r2_score:\",r2_score(y_true=y_train, y_pred=y_pred))"
   ]
  },
  {
   "cell_type": "code",
   "execution_count": null,
   "metadata": {},
   "outputs": [],
   "source": [
    "## Random Forest\n",
    "X_train = df_train.drop(columns=['NU_NOTA_MT'])\n",
    "y_train = df_train['NU_NOTA_MT']\n",
    "\n",
    "reg = RandomForestRegressor()\n",
    "\n",
    "reg.fit(X_train, y_train)\n",
    "y_pred = reg.predict(X_train)\n",
    "print(\"mean_squared_error:\",mean_squared_error(y_train, y_pred))\n",
    "print(\"mean_absolute_error:\",mean_absolute_error(y_train, y_pred))\n",
    "print(\"r2_score:\",r2_score(y_true=y_train, y_pred=y_pred))"
   ]
  },
  {
   "cell_type": "code",
   "execution_count": null,
   "metadata": {},
   "outputs": [],
   "source": [
    "# Utilizando somente colunas com 10% ou + de correlação com a nota de matemática\n",
    "mat_corr_abs = df_train.corr().abs()\n",
    "colunas_10perc = list(mat_corr_abs[mat_corr_abs['NU_NOTA_MT'] > 0.10]['NU_NOTA_MT'].index)\n",
    "colunas_10perc.remove('NU_NOTA_MT')\n",
    "X_train = df_train[colunas_10perc]\n",
    "\n",
    "reg = LinearRegression()\n",
    "\n",
    "reg.fit(X_train, y_train)\n",
    "y_pred = reg.predict(X_train)\n",
    "print(\"mean_squared_error:\",mean_squared_error(y_train, y_pred))\n",
    "print(\"mean_absolute_error:\",mean_absolute_error(y_train, y_pred))\n",
    "print(\"r2_score:\",r2_score(y_true=y_train, y_pred=y_pred))"
   ]
  },
  {
   "cell_type": "code",
   "execution_count": null,
   "metadata": {},
   "outputs": [],
   "source": [
    "## Random Forest ## Este foi o regressor utilizado para submeter o desafio\n",
    "mat_corr_abs = df_train.corr().abs()\n",
    "colunas_10perc = list(mat_corr_abs[mat_corr_abs['NU_NOTA_MT'] > 0.10]['NU_NOTA_MT'].index)\n",
    "colunas_10perc.remove('NU_NOTA_MT')\n",
    "X_train = df_train[colunas_10perc]\n",
    "y_train = df_train['NU_NOTA_MT']\n",
    "\n",
    "reg = RandomForestRegressor()\n",
    "\n",
    "reg.fit(X_train, y_train)\n",
    "y_pred = reg.predict(X_train)\n",
    "print(\"mean_squared_error:\",mean_squared_error(y_train, y_pred))\n",
    "print(\"mean_absolute_error:\",mean_absolute_error(y_train, y_pred))\n",
    "print(\"r2_score:\",r2_score(y_true=y_train, y_pred=y_pred))"
   ]
  },
  {
   "cell_type": "code",
   "execution_count": null,
   "metadata": {},
   "outputs": [],
   "source": [
    "# O erro aumentou na base de treino, porém foi reduzido o overfitting\n",
    "X_test = df_test[colunas_10perc]\n",
    "answer['NU_NOTA_MT'] = reg.predict(X_test)"
   ]
  },
  {
   "cell_type": "code",
   "execution_count": null,
   "metadata": {},
   "outputs": [],
   "source": [
    "answer"
   ]
  },
  {
   "cell_type": "code",
   "execution_count": null,
   "metadata": {},
   "outputs": [],
   "source": [
    "# Corrigindo notas abaixo de 0\n",
    "answer.NU_NOTA_MT = answer.NU_NOTA_MT.apply(lambda x: 0 if x < 0 else x)"
   ]
  },
  {
   "cell_type": "code",
   "execution_count": null,
   "metadata": {},
   "outputs": [],
   "source": [
    "answer.to_csv('/home/klimber/Documentos/Cursos/learning-to-code/AceleraDev/DataScience/Semana 08 - Ciclo de Desenvolvimento/desafio/answer.csv', index=False)"
   ]
  }
 ],
 "metadata": {
  "language_info": {
   "codemirror_mode": {
    "name": "ipython",
    "version": 3
   },
   "file_extension": ".py",
   "mimetype": "text/x-python",
   "name": "python",
   "nbconvert_exporter": "python",
   "pygments_lexer": "ipython3",
   "version": "3.8.3-final"
  },
  "orig_nbformat": 2,
  "kernelspec": {
   "name": "python38264bitvenvvenv6e9ff27c778a4c56bbda8025877f4e68",
   "display_name": "Python 3.8.2 64-bit ('venv': venv)"
  }
 },
 "nbformat": 4,
 "nbformat_minor": 2
}